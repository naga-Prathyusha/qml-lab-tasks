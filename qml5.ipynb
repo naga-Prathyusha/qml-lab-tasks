{
  "nbformat": 4,
  "nbformat_minor": 0,
  "metadata": {
    "colab": {
      "provenance": [],
      "authorship_tag": "ABX9TyNm3IrvV5uLsdqz5ZlGknMC",
      "include_colab_link": true
    },
    "kernelspec": {
      "name": "python3",
      "display_name": "Python 3"
    },
    "language_info": {
      "name": "python"
    }
  },
  "cells": [
    {
      "cell_type": "markdown",
      "metadata": {
        "id": "view-in-github",
        "colab_type": "text"
      },
      "source": [
        "<a href=\"https://colab.research.google.com/github/naga-Prathyusha/qml-lab-tasks/blob/main/qml5.ipynb\" target=\"_parent\"><img src=\"https://colab.research.google.com/assets/colab-badge.svg\" alt=\"Open In Colab\"/></a>"
      ]
    },
    {
      "cell_type": "code",
      "source": [
        "Aim: To simulate a CNOT gate and implement a simplified quantum teleportation protocol\n",
        "using Qiskit.\n",
        "1 Mathematical Model of the CNOT Gate\n",
        " The CNOT (Controlled-NOT) gate is a two-qubit quantum gate that flips the target\n",
        "qubit if and only if the control qubit is in state ∣1⟩.\n",
        " Computational basis ordering: ∣00⟩,∣01⟩,∣10⟩,∣11⟩ with first qubit = control(q0), second qubit =\n",
        "target(q1).\n",
        "\n",
        "1.3 Effect on Basis States\n",
        " If control = |0⟩, target remains unchanged.\n",
        " If control = |1⟩, target flips (X-gate applied).\n",
        "\n",
        "2 Algorithm for CNOT Gate Implementation\n",
        "1. Initialize a quantum circuit with 2 qubits and 2 classical bits.\n",
        "2. Prepare input states (e.g., test all possible combinations: |00⟩, |01⟩, |10⟩, |11⟩).\n",
        "3. Apply CNOT gate (control qubit = q0, target qubit = q1).\n",
        "4. Measure the qubits and store results in classical bits.\n",
        "5. Simulate the circuit using Qiskit’s Aer simulator.\n",
        "6. Plot the measurement outcomes.\n"
      ],
      "metadata": {
        "id": "piHHaHYPFRoH"
      },
      "execution_count": null,
      "outputs": []
    },
    {
      "cell_type": "code",
      "source": [
        "# ✅ Step 1: Install Qiskit (only once per session in Colab)\n",
        "!pip install qiskit qiskit-aer matplotlib\n",
        "\n",
        "# ✅ Step 2: Import libraries\n",
        "from qiskit import QuantumCircuit, transpile\n",
        "from qiskit_aer import Aer\n",
        "from qiskit.visualization import plot_histogram\n",
        "import matplotlib.pyplot as plt\n",
        "\n",
        "def cnot_circuit(input_state):\n",
        "    qc = QuantumCircuit(2, 2)  # 2 qubits, 2 classical bits\n",
        "\n",
        "    # Prepare input state\n",
        "    if input_state[0] == '1':\n",
        "        qc.x(0)  # Set q0 to |1⟩\n",
        "    if input_state[1] == '1':\n",
        "        qc.x(1)  # Set q1 to |1⟩\n",
        "\n",
        "    # Apply CNOT (q0 = control, q1 = target)\n",
        "    qc.cx(0, 1)\n",
        "\n",
        "    # Measure qubits\n",
        "    qc.measure([0, 1], [0, 1])\n",
        "\n",
        "    # Use QASM simulator\n",
        "    simulator = Aer.get_backend('qasm_simulator')\n",
        "    compiled_circuit = transpile(qc, simulator)\n",
        "    result = simulator.run(compiled_circuit, shots=1000).result()\n",
        "    counts = result.get_counts()\n",
        "\n",
        "    # Print results\n",
        "    print(f\"\\nCNOT Gate Test | Input: |{input_state}⟩\")\n",
        "    print(\"Circuit Diagram:\")\n",
        "    print(qc.draw(output='text'))\n",
        "\n",
        "    # Plot histogram\n",
        "    plot_histogram(counts)\n",
        "    plt.show()\n",
        "\n",
        "# ✅ Step 3: Test all possible inputs\n",
        "for state in ['00', '01', '10', '11']:\n",
        "    cnot_circuit(state)\n"
      ],
      "metadata": {
        "colab": {
          "base_uri": "https://localhost:8080/"
        },
        "id": "Vb8h7RmIdIc7",
        "outputId": "e7b03ee7-bb6a-4e11-abc5-96eea803dc97"
      },
      "execution_count": null,
      "outputs": [
        {
          "output_type": "stream",
          "name": "stdout",
          "text": [
            "Requirement already satisfied: qiskit in /usr/local/lib/python3.11/dist-packages (2.1.1)\n",
            "Requirement already satisfied: qiskit-aer in /usr/local/lib/python3.11/dist-packages (0.17.1)\n",
            "Requirement already satisfied: matplotlib in /usr/local/lib/python3.11/dist-packages (3.10.0)\n",
            "Requirement already satisfied: rustworkx>=0.15.0 in /usr/local/lib/python3.11/dist-packages (from qiskit) (0.17.1)\n",
            "Requirement already satisfied: numpy<3,>=1.17 in /usr/local/lib/python3.11/dist-packages (from qiskit) (2.0.2)\n",
            "Requirement already satisfied: scipy>=1.5 in /usr/local/lib/python3.11/dist-packages (from qiskit) (1.16.1)\n",
            "Requirement already satisfied: dill>=0.3 in /usr/local/lib/python3.11/dist-packages (from qiskit) (0.3.8)\n",
            "Requirement already satisfied: stevedore>=3.0.0 in /usr/local/lib/python3.11/dist-packages (from qiskit) (5.4.1)\n",
            "Requirement already satisfied: typing-extensions in /usr/local/lib/python3.11/dist-packages (from qiskit) (4.14.1)\n",
            "Requirement already satisfied: psutil>=5 in /usr/local/lib/python3.11/dist-packages (from qiskit-aer) (5.9.5)\n",
            "Requirement already satisfied: python-dateutil>=2.8.0 in /usr/local/lib/python3.11/dist-packages (from qiskit-aer) (2.9.0.post0)\n",
            "Requirement already satisfied: contourpy>=1.0.1 in /usr/local/lib/python3.11/dist-packages (from matplotlib) (1.3.3)\n",
            "Requirement already satisfied: cycler>=0.10 in /usr/local/lib/python3.11/dist-packages (from matplotlib) (0.12.1)\n",
            "Requirement already satisfied: fonttools>=4.22.0 in /usr/local/lib/python3.11/dist-packages (from matplotlib) (4.59.0)\n",
            "Requirement already satisfied: kiwisolver>=1.3.1 in /usr/local/lib/python3.11/dist-packages (from matplotlib) (1.4.9)\n",
            "Requirement already satisfied: packaging>=20.0 in /usr/local/lib/python3.11/dist-packages (from matplotlib) (25.0)\n",
            "Requirement already satisfied: pillow>=8 in /usr/local/lib/python3.11/dist-packages (from matplotlib) (11.3.0)\n",
            "Requirement already satisfied: pyparsing>=2.3.1 in /usr/local/lib/python3.11/dist-packages (from matplotlib) (3.2.3)\n",
            "Requirement already satisfied: six>=1.5 in /usr/local/lib/python3.11/dist-packages (from python-dateutil>=2.8.0->qiskit-aer) (1.17.0)\n",
            "Requirement already satisfied: pbr>=2.0.0 in /usr/local/lib/python3.11/dist-packages (from stevedore>=3.0.0->qiskit) (7.0.0)\n",
            "Requirement already satisfied: setuptools in /usr/local/lib/python3.11/dist-packages (from pbr>=2.0.0->stevedore>=3.0.0->qiskit) (75.2.0)\n",
            "\n",
            "CNOT Gate Test | Input: |00⟩\n",
            "Circuit Diagram:\n",
            "          ┌─┐   \n",
            "q_0: ──■──┤M├───\n",
            "     ┌─┴─┐└╥┘┌─┐\n",
            "q_1: ┤ X ├─╫─┤M├\n",
            "     └───┘ ║ └╥┘\n",
            "c: 2/══════╩══╩═\n",
            "           0  1 \n",
            "\n",
            "CNOT Gate Test | Input: |01⟩\n",
            "Circuit Diagram:\n",
            "               ┌─┐   \n",
            "q_0: ───────■──┤M├───\n",
            "     ┌───┐┌─┴─┐└╥┘┌─┐\n",
            "q_1: ┤ X ├┤ X ├─╫─┤M├\n",
            "     └───┘└───┘ ║ └╥┘\n",
            "c: 2/═══════════╩══╩═\n",
            "                0  1 \n",
            "\n",
            "CNOT Gate Test | Input: |10⟩\n",
            "Circuit Diagram:\n",
            "     ┌───┐     ┌─┐   \n",
            "q_0: ┤ X ├──■──┤M├───\n",
            "     └───┘┌─┴─┐└╥┘┌─┐\n",
            "q_1: ─────┤ X ├─╫─┤M├\n",
            "          └───┘ ║ └╥┘\n",
            "c: 2/═══════════╩══╩═\n",
            "                0  1 \n",
            "\n",
            "CNOT Gate Test | Input: |11⟩\n",
            "Circuit Diagram:\n",
            "     ┌───┐     ┌─┐   \n",
            "q_0: ┤ X ├──■──┤M├───\n",
            "     ├───┤┌─┴─┐└╥┘┌─┐\n",
            "q_1: ┤ X ├┤ X ├─╫─┤M├\n",
            "     └───┘└───┘ ║ └╥┘\n",
            "c: 2/═══════════╩══╩═\n",
            "                0  1 \n"
          ]
        }
      ]
    },
    {
      "cell_type": "code",
      "source": [
        "Algorithm for Quantum Teleportation Implementation\n",
        "1. Initialize 3-qubit circuit (Alice's q0, shared q1, Bob's q2) + 2 classical bits\n",
        "2. Prepare Alice's qubit (e.g., |1⟩ via X gate)\n",
        "3. Create Bell pair between q1 & q2 (H + CNOT)\n",
        "4. Teleportation protocol\n",
        "CNOT(q0, q1)\n",
        "H(q0)\n",
        "Measure q0 & q1 → store in classical bits\n",
        "5. Bob's corrections\n",
        "Apply X if c1=1\n",
        "Apply Z if c0=1\n",
        "6. Verify by measuring Bob's qubit"
      ],
      "metadata": {
        "id": "Z7v30LqDFjC-"
      },
      "execution_count": null,
      "outputs": []
    },
    {
      "cell_type": "code",
      "source": [
        "!pip install qiskit qiskit-aer matplotlib\n",
        "from qiskit import QuantumCircuit\n",
        "from qiskit_aer import Aer\n",
        "from qiskit.visualization import plot_histogram\n",
        "import matplotlib.pyplot as plt\n",
        "# Create circuit\n",
        "qc = QuantumCircuit(3, 2) # 3 qubits, 2 classical bits\n",
        "# Step 1: Prepare Alice's state (|1⟩ for demo)\n",
        "qc.x(0) # Comment out to teleport |0⟩\n",
        "qc.barrier()\n",
        "# Step 2: Create Bell pair (q1 & q2)\n",
        "qc.h(1)\n",
        "qc.cx(1, 2)\n",
        "qc.barrier()\n",
        "# Step 3: Teleportation protocol\n",
        "qc.cx(0, 1)\n",
        "qc.h(0)\n",
        "qc.barrier()\n",
        "# Step 4: Measure Alice's qubits\n",
        "qc.measure([0,1], [0,1])\n",
        "qc.barrier()\n",
        "# Step 5: Bob's corrections\n",
        "qc.cx(1, 2) # X if c1=1\n",
        "qc.cz(0, 2) # Z if c0=1\n",
        "# Step 6: Measure Bob's qubit\n",
        "qc.measure(2, 0) # Overwrite c0 for verification\n",
        "# Draw circuit\n",
        "print(\"Teleportation Circuit:\")\n",
        "print(qc.draw(output='text'))\n",
        "# Simulate\n",
        "simulator = Aer.get_backend('qasm_simulator')\n",
        "result = simulator.run(qc, shots=1000).result()\n",
        "counts = result.get_counts(qc)\n",
        "# Results\n",
        "print(\"\\nMeasurement results:\")\n",
        "print(counts)\n",
        "plot_histogram(counts)\n",
        "plt.show()\n"
      ],
      "metadata": {
        "colab": {
          "base_uri": "https://localhost:8080/"
        },
        "id": "7tqB0118eCGN",
        "outputId": "a41db07e-41bd-4f82-816d-3e30af3686fc"
      },
      "execution_count": null,
      "outputs": [
        {
          "output_type": "stream",
          "name": "stdout",
          "text": [
            "Requirement already satisfied: qiskit in /usr/local/lib/python3.11/dist-packages (2.1.1)\n",
            "Requirement already satisfied: qiskit-aer in /usr/local/lib/python3.11/dist-packages (0.17.1)\n",
            "Requirement already satisfied: matplotlib in /usr/local/lib/python3.11/dist-packages (3.10.0)\n",
            "Requirement already satisfied: rustworkx>=0.15.0 in /usr/local/lib/python3.11/dist-packages (from qiskit) (0.17.1)\n",
            "Requirement already satisfied: numpy<3,>=1.17 in /usr/local/lib/python3.11/dist-packages (from qiskit) (2.0.2)\n",
            "Requirement already satisfied: scipy>=1.5 in /usr/local/lib/python3.11/dist-packages (from qiskit) (1.16.1)\n",
            "Requirement already satisfied: dill>=0.3 in /usr/local/lib/python3.11/dist-packages (from qiskit) (0.3.8)\n",
            "Requirement already satisfied: stevedore>=3.0.0 in /usr/local/lib/python3.11/dist-packages (from qiskit) (5.4.1)\n",
            "Requirement already satisfied: typing-extensions in /usr/local/lib/python3.11/dist-packages (from qiskit) (4.14.1)\n",
            "Requirement already satisfied: psutil>=5 in /usr/local/lib/python3.11/dist-packages (from qiskit-aer) (5.9.5)\n",
            "Requirement already satisfied: python-dateutil>=2.8.0 in /usr/local/lib/python3.11/dist-packages (from qiskit-aer) (2.9.0.post0)\n",
            "Requirement already satisfied: contourpy>=1.0.1 in /usr/local/lib/python3.11/dist-packages (from matplotlib) (1.3.3)\n",
            "Requirement already satisfied: cycler>=0.10 in /usr/local/lib/python3.11/dist-packages (from matplotlib) (0.12.1)\n",
            "Requirement already satisfied: fonttools>=4.22.0 in /usr/local/lib/python3.11/dist-packages (from matplotlib) (4.59.0)\n",
            "Requirement already satisfied: kiwisolver>=1.3.1 in /usr/local/lib/python3.11/dist-packages (from matplotlib) (1.4.9)\n",
            "Requirement already satisfied: packaging>=20.0 in /usr/local/lib/python3.11/dist-packages (from matplotlib) (25.0)\n",
            "Requirement already satisfied: pillow>=8 in /usr/local/lib/python3.11/dist-packages (from matplotlib) (11.3.0)\n",
            "Requirement already satisfied: pyparsing>=2.3.1 in /usr/local/lib/python3.11/dist-packages (from matplotlib) (3.2.3)\n",
            "Requirement already satisfied: six>=1.5 in /usr/local/lib/python3.11/dist-packages (from python-dateutil>=2.8.0->qiskit-aer) (1.17.0)\n",
            "Requirement already satisfied: pbr>=2.0.0 in /usr/local/lib/python3.11/dist-packages (from stevedore>=3.0.0->qiskit) (7.0.0)\n",
            "Requirement already satisfied: setuptools in /usr/local/lib/python3.11/dist-packages (from pbr>=2.0.0->stevedore>=3.0.0->qiskit) (75.2.0)\n",
            "Teleportation Circuit:\n",
            "     ┌───┐ ░            ░      ┌───┐ ░ ┌─┐    ░            \n",
            "q_0: ┤ X ├─░────────────░───■──┤ H ├─░─┤M├────░───────■────\n",
            "     └───┘ ░ ┌───┐      ░ ┌─┴─┐└───┘ ░ └╥┘┌─┐ ░       │    \n",
            "q_1: ──────░─┤ H ├──■───░─┤ X ├──────░──╫─┤M├─░───■───┼────\n",
            "           ░ └───┘┌─┴─┐ ░ └───┘      ░  ║ └╥┘ ░ ┌─┴─┐ │ ┌─┐\n",
            "q_2: ──────░──────┤ X ├─░────────────░──╫──╫──░─┤ X ├─■─┤M├\n",
            "           ░      └───┘ ░            ░  ║  ║  ░ └───┘   └╥┘\n",
            "c: 2/═══════════════════════════════════╩══╩═════════════╩═\n",
            "                                        0  1             0 \n",
            "\n",
            "Measurement results:\n",
            "{'11': 518, '01': 482}\n"
          ]
        }
      ]
    },
    {
      "cell_type": "code",
      "source": [
        "Result\n",
        "This work illustrates the implementation, simulation, and verification of the CNOT gate using\n",
        "Qiskit, followed by the construction of a complete quantum teleportation protocol. The protocol\n",
        "is validated through simulation, confirming the accurate transfer of an arbitrary quantum state\n",
        "using entanglement and classical communication."
      ],
      "metadata": {
        "id": "hBxWVPcwFcZY"
      },
      "execution_count": null,
      "outputs": []
    }
  ]
}