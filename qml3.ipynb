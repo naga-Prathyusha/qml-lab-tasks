{
  "nbformat": 4,
  "nbformat_minor": 0,
  "metadata": {
    "colab": {
      "provenance": [],
      "authorship_tag": "ABX9TyP3T/+YGU1E9LqAbwa8IpfS",
      "include_colab_link": true
    },
    "kernelspec": {
      "name": "python3",
      "display_name": "Python 3"
    },
    "language_info": {
      "name": "python"
    }
  },
  "cells": [
    {
      "cell_type": "markdown",
      "metadata": {
        "id": "view-in-github",
        "colab_type": "text"
      },
      "source": [
        "<a href=\"https://colab.research.google.com/github/naga-Prathyusha/qml-lab-tasks/blob/main/qml3.ipynb\" target=\"_parent\"><img src=\"https://colab.research.google.com/assets/colab-badge.svg\" alt=\"Open In Colab\"/></a>"
      ]
    },
    {
      "cell_type": "code",
      "source": [
        "Aim: To construct Bell States via Tensor Products and Measuring Entanglement Entropy in Bipartite.\n",
        "1. Construct all four Bell states (|Φ⁺⟩, |Φ⁻⟩, |Ψ⁺⟩, |Ψ⁻⟩) using quantum gates (Hadamard and CNOT).\n",
        "2. Measure their entanglement entropy to verify that they are maximally entangled (entropy= 1).\n",
        "3. Compare with a product state (|00⟩) to confirm it has zero entanglement (entropy = 0)\n",
        "\n",
        "\n",
        "\n",
        "\n",
        "Algorithm\n",
        "Define quantum gates\n",
        "Create entangled Bell states using tensor products.\n",
        "Reshape the states for partial trace computation.\n",
        "Calculate entanglement entropy of bipartite state\n",
        "Compute eigenvalues (using eigh for Hermitian matrices)\n",
        "Compute von Neumann entropy\n"
      ],
      "metadata": {
        "id": "23_k7vXkBhY_"
      },
      "execution_count": null,
      "outputs": []
    },
    {
      "cell_type": "code",
      "source": [
        "import numpy as np\n",
        "from math import log2, sqrt\n",
        "\n",
        "print(\"\\n\" + \"=\"*50)\n",
        "print(\"TASK 3: BELL STATES AND ENTANGLEMENT ENTROPY\")\n",
        "print(\"=\"*50)\n",
        "\n",
        "# Define quantum gates\n",
        "H = 1/sqrt(2) * np.array([[1, 1], [1, -1]])  # Hadamard gate\n",
        "I = np.eye(2)  # Identity gate\n",
        "CNOT = np.array([[1, 0, 0, 0],\n",
        "                 [0, 1, 0, 0],\n",
        "                 [0, 0, 0, 1],\n",
        "                 [0, 0, 1, 0]])  # CNOT gate\n",
        "\n",
        "class BellStates:\n",
        "    @staticmethod\n",
        "    def phi_plus():\n",
        "        \"\"\"Construct |Φ⁺⟩ = (|00⟩ + |11⟩)/√2\"\"\"\n",
        "        state = np.kron([1, 0], [1, 0])  # |00⟩\n",
        "        state = np.kron(H, I) @ state    # Apply H to first qubit\n",
        "        return CNOT @ state              # Apply CNOT\n",
        "\n",
        "    @staticmethod\n",
        "    def phi_minus():\n",
        "        \"\"\"Construct |Φ⁻⟩ = (|00⟩ - |11⟩)/√2\"\"\"\n",
        "        state = BellStates.phi_plus()\n",
        "        # flip the phase of |11⟩ component\n",
        "        state[3] = -state[3]\n",
        "        return state\n",
        "\n",
        "    @staticmethod\n",
        "    def psi_plus():\n",
        "        \"\"\"Construct |Ψ⁺⟩ = (|01⟩ + |10⟩)/√2\"\"\"\n",
        "        state = np.kron([1, 0], [0, 1])  # |01⟩\n",
        "        state = np.kron(H, I) @ state    # Apply H to first qubit\n",
        "        return CNOT @ state              # Apply CNOT\n",
        "\n",
        "    @staticmethod\n",
        "    def psi_minus():\n",
        "        \"\"\"Construct |Ψ⁻⟩ = (|01⟩ - |10⟩)/√2\"\"\"\n",
        "        state = BellStates.psi_plus()\n",
        "        # flip the phase of |10⟩ component\n",
        "        state[2] = -state[2]\n",
        "        return state\n",
        "\n",
        "def partial_trace(rho, dims, axis=0):\n",
        "    \"\"\"\n",
        "    Compute partial trace of density matrix rho\n",
        "    dims: list of dimensions of each subsystem [dA, dB]\n",
        "    axis: 0 for tracing out B, 1 for tracing out A\n",
        "    \"\"\"\n",
        "    dA, dB = dims\n",
        "    if axis == 0:  # Trace out B\n",
        "        rho_reduced = np.zeros((dA, dA), dtype=complex)\n",
        "        for i in range(dA):\n",
        "            for j in range(dA):\n",
        "                for k in range(dB):\n",
        "                    rho_reduced[i, j] += rho[i * dB + k, j * dB + k]\n",
        "    else:  # Trace out A\n",
        "        rho_reduced = np.zeros((dB, dB), dtype=complex)\n",
        "        for i in range(dB):\n",
        "            for j in range(dB):\n",
        "                for k in range(dA):\n",
        "                    rho_reduced[i, j] += rho[k * dB + i, k * dB + j]\n",
        "    return rho_reduced\n",
        "\n",
        "def entanglement_entropy(state):\n",
        "    \"\"\"\n",
        "    Calculate entanglement entropy of bipartite state\n",
        "    Input: state vector or density matrix\n",
        "    Output: entanglement entropy\n",
        "    \"\"\"\n",
        "    # Convert state to density matrix if it's a state vector\n",
        "    if state.ndim == 1:\n",
        "        rho = np.outer(state, state.conj())\n",
        "    else:\n",
        "        rho = state\n",
        "\n",
        "    # Partial trace over subsystem B (assuming 2-qubit system)\n",
        "    rho_A = partial_trace(rho, [2, 2], axis=1)\n",
        "\n",
        "    # Compute eigenvalues (using eigh for Hermitian matrices)\n",
        "    eigvals = np.linalg.eigvalsh(rho_A)\n",
        "\n",
        "    # Calculate von Neumann entropy\n",
        "    entropy = 0.0\n",
        "    for lamda in eigvals:\n",
        "        if lamda > 1e-10:  # avoid log(0)\n",
        "            entropy -= lamda * log2(lamda)\n",
        "\n",
        "    return entropy\n",
        "\n",
        "# Example usage\n",
        "if __name__ == \"__main__\":\n",
        "    # Construct Bell states\n",
        "    phi_p = BellStates.phi_plus()\n",
        "    phi_m = BellStates.phi_minus()\n",
        "    psi_p = BellStates.psi_plus()\n",
        "    psi_m = BellStates.psi_minus()\n",
        "\n",
        "    print(f\"Bell state |Φ⁺⟩ = {phi_p}\")\n",
        "    print(f\"Bell state |Φ⁻⟩ = {phi_m}\")\n",
        "    print(f\"Bell state |Ψ⁺⟩ = {psi_p}\")\n",
        "    print(f\"Bell state |Ψ⁻⟩ = {psi_m}\")\n",
        "\n",
        "    # Verify entanglement entropy (should be 1 for maximally entangled states)\n",
        "    print(f\"Entanglement entropy of |Φ⁺⟩: {entanglement_entropy(phi_p):.4f}\")\n",
        "    print(f\"Entanglement entropy of |Φ⁻⟩: {entanglement_entropy(phi_m):.4f}\")\n",
        "    print(f\"Entanglement entropy of |Ψ⁺⟩: {entanglement_entropy(psi_p):.4f}\")\n",
        "    print(f\"Entanglement entropy of |Ψ⁻⟩: {entanglement_entropy(psi_m):.4f}\")\n",
        "\n",
        "    # Verify product state has zero entanglement entropy\n",
        "    product_state = np.kron([1, 0], [1, 0])  # |00⟩\n",
        "    print(f\"Entanglement entropy of |00⟩: {entanglement_entropy(product_state):.4f}\")\n"
      ],
      "metadata": {
        "colab": {
          "base_uri": "https://localhost:8080/"
        },
        "id": "Rh6-DA_B3bcR",
        "outputId": "03c3994d-f6b1-42a2-ef86-75b4da003131"
      },
      "execution_count": null,
      "outputs": [
        {
          "output_type": "stream",
          "name": "stdout",
          "text": [
            "\n",
            "==================================================\n",
            "TASK 3: BELL STATES AND ENTANGLEMENT ENTROPY\n",
            "==================================================\n",
            "Bell state |Φ⁺⟩ = [0.70710678 0.         0.         0.70710678]\n",
            "Bell state |Φ⁻⟩ = [ 0.70710678  0.          0.         -0.70710678]\n",
            "Bell state |Ψ⁺⟩ = [0.         0.70710678 0.70710678 0.        ]\n",
            "Bell state |Ψ⁻⟩ = [ 0.          0.70710678 -0.70710678  0.        ]\n",
            "Entanglement entropy of |Φ⁺⟩: 1.0000\n",
            "Entanglement entropy of |Φ⁻⟩: 1.0000\n",
            "Entanglement entropy of |Ψ⁺⟩: 1.0000\n",
            "Entanglement entropy of |Ψ⁻⟩: 1.0000\n",
            "Entanglement entropy of |00⟩: 0.0000\n"
          ]
        }
      ]
    },
    {
      "cell_type": "code",
      "source": [
        "Result:\n",
        "Bell states were constructed and their entanglement entropy was accurately calculated"
      ],
      "metadata": {
        "id": "OAUrDCOaDxcZ"
      },
      "execution_count": null,
      "outputs": []
    }
  ]
}